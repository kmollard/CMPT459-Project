{
 "cells": [
  {
   "cell_type": "code",
   "execution_count": 1,
   "metadata": {},
   "outputs": [],
   "source": [
    "import pandas as pd\n",
    "from sklearn.preprocessing import StandardScaler"
   ]
  },
  {
   "cell_type": "code",
   "execution_count": 2,
   "metadata": {},
   "outputs": [],
   "source": [
    "import sklearn\n",
    "import statsmodels\n",
    "import arch"
   ]
  },
  {
   "cell_type": "code",
   "execution_count": 3,
   "metadata": {},
   "outputs": [],
   "source": [
    "from datetime import datetime, timedelta\n",
    "import pandas as pd\n",
    "import matplotlib.pyplot as plt\n",
    "from arch import arch_model\n",
    "from statsmodels.graphics.tsaplots import plot_acf, plot_pacf\n",
    "import numpy as np"
   ]
  },
  {
   "cell_type": "code",
   "execution_count": 4,
   "metadata": {},
   "outputs": [],
   "source": [
    "# Helper function: Data acquisition\n",
    "def load_data(stock_file, company_file, index_file):\n",
    "    stocks = pd.read_csv(stock_file)\n",
    "    companies = pd.read_csv(company_file)\n",
    "    index = pd.read_csv(index_file)\n",
    "    return stocks, companies, index"
   ]
  },
  {
   "cell_type": "code",
   "execution_count": 5,
   "metadata": {},
   "outputs": [],
   "source": [
    "def convert_dates(df, date_column):\n",
    "    df[date_column] = pd.to_datetime(df[date_column], errors='coerce')\n",
    "    return df"
   ]
  },
  {
   "cell_type": "code",
   "execution_count": 6,
   "metadata": {},
   "outputs": [],
   "source": [
    "# Helper function: Data cleaning\n",
    "def clean_data(stocks):\n",
    "    # Drop rows with missing values or interpolate them\n",
    "    # stocks.interpolate(method='linear', inplace=True)\n",
    "    \n",
    "    # Interpolate only numeric columns\n",
    "    numeric_cols = stocks.select_dtypes(include=['float64', 'int64']).columns\n",
    "    stocks[numeric_cols] = stocks[numeric_cols].interpolate(method='linear')\n",
    "    return stocks"
   ]
  },
  {
   "cell_type": "code",
   "execution_count": 7,
   "metadata": {},
   "outputs": [],
   "source": [
    "# Helper function: Normalize numerical features\n",
    "def normalize_features(stocks, columns_to_scale):\n",
    "    scaler = StandardScaler()\n",
    "    stocks[columns_to_scale] = scaler.fit_transform(stocks[columns_to_scale])\n",
    "    return stocks"
   ]
  },
  {
   "cell_type": "code",
   "execution_count": 8,
   "metadata": {},
   "outputs": [],
   "source": [
    "# Helper function: Feature engineering\n",
    "def add_features(stocks):\n",
    "    # Calculate daily returns\n",
    "    stocks['daily_return'] = stocks['Close'].pct_change()\n",
    "\n",
    "    # Add moving averages\n",
    "    stocks['MA_10'] = stocks['Close'].rolling(window=10).mean()\n",
    "    stocks['MA_50'] = stocks['Close'].rolling(window=50).mean()\n",
    "\n",
    "    # Calculate rolling volatility\n",
    "    stocks['volatility'] = stocks['daily_return'].rolling(window=10).std()\n",
    "\n",
    "    return stocks"
   ]
  },
  {
   "cell_type": "code",
   "execution_count": 9,
   "metadata": {},
   "outputs": [],
   "source": [
    "def optimize_memory(df):\n",
    "    for col in df.select_dtypes(include=['float64']).columns:\n",
    "        df[col] = pd.to_numeric(df[col], downcast='float')\n",
    "    return df\n"
   ]
  },
  {
   "cell_type": "code",
   "execution_count": 10,
   "metadata": {},
   "outputs": [
    {
     "name": "stdout",
     "output_type": "stream",
     "text": [
      "\n",
      "Loading datasets...\n"
     ]
    }
   ],
   "source": [
    "# Main execution\n",
    "# File paths (adjust as necessary)\n",
    "stock_file = \"sp500_stocks.csv\"\n",
    "company_file = \"sp500_companies.csv\"\n",
    "index_file = \"sp500_index.csv\"\n",
    "\n",
    "# Step 1: Load datasets\n",
    "print(\"\\nLoading datasets...\")\n",
    "stocks, companies, index = load_data(stock_file, company_file, index_file)\n"
   ]
  },
  {
   "cell_type": "code",
   "execution_count": 11,
   "metadata": {},
   "outputs": [
    {
     "name": "stdout",
     "output_type": "stream",
     "text": [
      "Stocks Data Overview:\n",
      "<class 'pandas.core.frame.DataFrame'>\n",
      "RangeIndex: 1883735 entries, 0 to 1883734\n",
      "Data columns (total 8 columns):\n",
      " #   Column     Dtype  \n",
      "---  ------     -----  \n",
      " 0   Date       object \n",
      " 1   Symbol     object \n",
      " 2   Adj Close  float64\n",
      " 3   Close      float64\n",
      " 4   High       float64\n",
      " 5   Low        float64\n",
      " 6   Open       float64\n",
      " 7   Volume     float64\n",
      "dtypes: float64(6), object(2)\n",
      "memory usage: 115.0+ MB\n",
      "None\n",
      "\n",
      "Companies Data Overview:\n",
      "<class 'pandas.core.frame.DataFrame'>\n",
      "RangeIndex: 503 entries, 0 to 502\n",
      "Data columns (total 16 columns):\n",
      " #   Column               Non-Null Count  Dtype  \n",
      "---  ------               --------------  -----  \n",
      " 0   Exchange             503 non-null    object \n",
      " 1   Symbol               503 non-null    object \n",
      " 2   Shortname            503 non-null    object \n",
      " 3   Longname             503 non-null    object \n",
      " 4   Sector               503 non-null    object \n",
      " 5   Industry             503 non-null    object \n",
      " 6   Currentprice         503 non-null    float64\n",
      " 7   Marketcap            503 non-null    int64  \n",
      " 8   Ebitda               474 non-null    float64\n",
      " 9   Revenuegrowth        500 non-null    float64\n",
      " 10  City                 503 non-null    object \n",
      " 11  State                483 non-null    object \n",
      " 12  Country              503 non-null    object \n",
      " 13  Fulltimeemployees    494 non-null    float64\n",
      " 14  Longbusinesssummary  503 non-null    object \n",
      " 15  Weight               503 non-null    float64\n",
      "dtypes: float64(5), int64(1), object(10)\n",
      "memory usage: 63.0+ KB\n",
      "None\n",
      "\n",
      "Index Data Overview:\n",
      "<class 'pandas.core.frame.DataFrame'>\n",
      "RangeIndex: 2517 entries, 0 to 2516\n",
      "Data columns (total 2 columns):\n",
      " #   Column  Non-Null Count  Dtype  \n",
      "---  ------  --------------  -----  \n",
      " 0   Date    2517 non-null   object \n",
      " 1   S&P500  2517 non-null   float64\n",
      "dtypes: float64(1), object(1)\n",
      "memory usage: 39.5+ KB\n",
      "None\n"
     ]
    }
   ],
   "source": [
    "\n",
    "# Step 2: Verify data structure\n",
    "print(\"Stocks Data Overview:\")\n",
    "print(stocks.info())\n",
    "print(\"\\nCompanies Data Overview:\")\n",
    "print(companies.info())\n",
    "print(\"\\nIndex Data Overview:\")\n",
    "print(index.info())\n"
   ]
  },
  {
   "cell_type": "code",
   "execution_count": 12,
   "metadata": {},
   "outputs": [
    {
     "name": "stdout",
     "output_type": "stream",
     "text": [
      "\n",
      "Cleaning stocks data...\n"
     ]
    }
   ],
   "source": [
    "\n",
    "# Step 3: Data cleaning\n",
    "print(\"\\nCleaning stocks data...\")\n",
    "stocks = clean_data(stocks)\n",
    "\n"
   ]
  },
  {
   "cell_type": "code",
   "execution_count": 13,
   "metadata": {},
   "outputs": [
    {
     "name": "stdout",
     "output_type": "stream",
     "text": [
      "\n",
      "Converting date columns to datetime...\n"
     ]
    }
   ],
   "source": [
    "# Step 4: Convert Date columns to datetime format\n",
    "print(\"\\nConverting date columns to datetime...\")\n",
    "stocks = convert_dates(stocks, 'Date')\n",
    "index = convert_dates(index, 'Date')\n",
    "\n"
   ]
  },
  {
   "cell_type": "code",
   "execution_count": 14,
   "metadata": {},
   "outputs": [
    {
     "name": "stdout",
     "output_type": "stream",
     "text": [
      "\n",
      "Optimizing memory usage...\n"
     ]
    }
   ],
   "source": [
    "# Step 5: Optimize memory usage for stocks\n",
    "print(\"\\nOptimizing memory usage...\")\n",
    "stocks = optimize_memory(stocks)\n",
    "\n"
   ]
  },
  {
   "cell_type": "code",
   "execution_count": 15,
   "metadata": {},
   "outputs": [
    {
     "name": "stdout",
     "output_type": "stream",
     "text": [
      "\n",
      "Joining stocks data with company metadata...\n"
     ]
    }
   ],
   "source": [
    "# Step 6: Join stocks data with company metadata\n",
    "# stocks = stocks.merge(companies, left_on='Symbol', right_on='Symbol', how='left')\n",
    "print(\"\\nJoining stocks data with company metadata...\")\n",
    "stocks = stocks.merge(companies[['Symbol', 'Sector', 'Industry']], on='Symbol', how='left')\n",
    "\n"
   ]
  },
  {
   "cell_type": "code",
   "execution_count": 16,
   "metadata": {},
   "outputs": [
    {
     "name": "stdout",
     "output_type": "stream",
     "text": [
      "\n",
      "Normalizing numerical features...\n"
     ]
    }
   ],
   "source": [
    "# Step 7: Normalize numerical features\n",
    "print(\"\\nNormalizing numerical features...\")\n",
    "columns_to_scale = ['Open', 'High', 'Low', 'Close', 'Volume']\n",
    "stocks = normalize_features(stocks, columns_to_scale)\n",
    "\n",
    "\n"
   ]
  },
  {
   "cell_type": "code",
   "execution_count": 17,
   "metadata": {},
   "outputs": [
    {
     "name": "stdout",
     "output_type": "stream",
     "text": [
      "\n",
      "Adding new features...\n"
     ]
    }
   ],
   "source": [
    "# Step 8: Feature engineering\n",
    "print(\"\\nAdding new features...\")\n",
    "stocks = add_features(stocks)\n",
    "\n"
   ]
  },
  {
   "cell_type": "code",
   "execution_count": 18,
   "metadata": {},
   "outputs": [
    {
     "name": "stdout",
     "output_type": "stream",
     "text": [
      "\n",
      "Saving processed data to processed_sp500_data.csv...\n",
      "Data preprocessing and feature engineering completed.\n"
     ]
    }
   ],
   "source": [
    "# Save processed data for future use\n",
    "processed_file = \"processed_sp500_data.csv\"\n",
    "print(f\"\\nSaving processed data to {processed_file}...\")\n",
    "stocks.to_csv(processed_file, index=False)\n",
    "\n",
    "print(\"Data preprocessing and feature engineering completed.\")"
   ]
  },
  {
   "cell_type": "code",
   "execution_count": 19,
   "metadata": {},
   "outputs": [
    {
     "name": "stdout",
     "output_type": "stream",
     "text": [
      "Processed Data Overview:\n",
      "<class 'pandas.core.frame.DataFrame'>\n",
      "RangeIndex: 1883735 entries, 0 to 1883734\n",
      "Data columns (total 14 columns):\n",
      " #   Column        Dtype  \n",
      "---  ------        -----  \n",
      " 0   Date          object \n",
      " 1   Symbol        object \n",
      " 2   Adj Close     float64\n",
      " 3   Close         float64\n",
      " 4   High          float64\n",
      " 5   Low           float64\n",
      " 6   Open          float64\n",
      " 7   Volume        float64\n",
      " 8   Sector        object \n",
      " 9   Industry      object \n",
      " 10  daily_return  float64\n",
      " 11  MA_10         float64\n",
      " 12  MA_50         float64\n",
      " 13  volatility    float64\n",
      "dtypes: float64(10), object(4)\n",
      "memory usage: 201.2+ MB\n",
      "None\n",
      "\n",
      "First 5 Rows of Processed Data:\n",
      "         Date Symbol  Adj Close     Close      High       Low      Open  \\\n",
      "0  2010-01-04    MMM  43.783863 -0.254543 -0.256966 -0.251168 -0.254309   \n",
      "1  2010-01-05    MMM  43.509640 -0.257461 -0.258192 -0.256681 -0.255951   \n",
      "2  2010-01-06    MMM  44.126670 -0.250895 -0.250554 -0.246394 -0.249837   \n",
      "3  2010-01-07    MMM  44.158306 -0.250558 -0.255237 -0.254294 -0.253007   \n",
      "4  2010-01-08    MMM  44.469480 -0.247247 -0.252115 -0.247588 -0.250913   \n",
      "\n",
      "     Volume       Sector       Industry  daily_return  MA_10  MA_50  \\\n",
      "0 -0.175490  Industrials  Conglomerates           NaN    NaN    NaN   \n",
      "1 -0.191073  Industrials  Conglomerates      0.011465    NaN    NaN   \n",
      "2  0.000770  Industrials  Conglomerates     -0.025504    NaN    NaN   \n",
      "3 -0.062484  Industrials  Conglomerates     -0.001342    NaN    NaN   \n",
      "4 -0.146802  Industrials  Conglomerates     -0.013216    NaN    NaN   \n",
      "\n",
      "   volatility  \n",
      "0         NaN  \n",
      "1         NaN  \n",
      "2         NaN  \n",
      "3         NaN  \n",
      "4         NaN  \n"
     ]
    }
   ],
   "source": [
    "# Verify the Processed Data File\n",
    "import pandas as pd\n",
    "\n",
    "# Load the processed data\n",
    "processed_file = \"processed_sp500_data.csv\"\n",
    "processed_stocks = pd.read_csv(processed_file)\n",
    "\n",
    "# Check basic information about the data\n",
    "print(\"Processed Data Overview:\")\n",
    "print(processed_stocks.info())\n",
    "\n",
    "# Display the first few rows of the dataset\n",
    "print(\"\\nFirst 5 Rows of Processed Data:\")\n",
    "print(processed_stocks.head())\n"
   ]
  },
  {
   "cell_type": "code",
   "execution_count": 20,
   "metadata": {},
   "outputs": [
    {
     "name": "stdout",
     "output_type": "stream",
     "text": [
      "\n",
      "Missing Values in Processed Data:\n",
      "daily_return     1\n",
      "MA_10            9\n",
      "MA_50           49\n",
      "volatility      10\n",
      "dtype: int64\n",
      "\n",
      "Some columns still contain missing values. Consider handling them.\n"
     ]
    }
   ],
   "source": [
    "# Check for missing values in each column\n",
    "missing_values = processed_stocks.isnull().sum()\n",
    "print(\"\\nMissing Values in Processed Data:\")\n",
    "print(missing_values[missing_values > 0])  # Display only columns with missing values\n",
    "\n",
    "if missing_values.sum() == 0:\n",
    "    print(\"\\nNo missing values found in the dataset.\")\n",
    "else:\n",
    "    print(\"\\nSome columns still contain missing values. Consider handling them.\")\n"
   ]
  },
  {
   "cell_type": "code",
   "execution_count": 21,
   "metadata": {},
   "outputs": [
    {
     "name": "stdout",
     "output_type": "stream",
     "text": [
      "\n",
      "Feature Engineering Check:\n",
      "'daily_return' exists in the dataset. Sample values:\n",
      "0         NaN\n",
      "1    0.011465\n",
      "2   -0.025504\n",
      "3   -0.001342\n",
      "4   -0.013216\n",
      "Name: daily_return, dtype: float64\n",
      "'MA_10' exists in the dataset. Sample values:\n",
      "0   NaN\n",
      "1   NaN\n",
      "2   NaN\n",
      "3   NaN\n",
      "4   NaN\n",
      "Name: MA_10, dtype: float64\n",
      "'MA_50' exists in the dataset. Sample values:\n",
      "0   NaN\n",
      "1   NaN\n",
      "2   NaN\n",
      "3   NaN\n",
      "4   NaN\n",
      "Name: MA_50, dtype: float64\n",
      "'volatility' exists in the dataset. Sample values:\n",
      "0   NaN\n",
      "1   NaN\n",
      "2   NaN\n",
      "3   NaN\n",
      "4   NaN\n",
      "Name: volatility, dtype: float64\n"
     ]
    }
   ],
   "source": [
    "# Check if feature engineering columns exist\n",
    "# This block ensures that the engineered features (daily_return, MA_10, MA_50, volatility) were added correctly.\n",
    "\n",
    "engineered_columns = ['daily_return', 'MA_10', 'MA_50', 'volatility']\n",
    "print(\"\\nFeature Engineering Check:\")\n",
    "for col in engineered_columns:\n",
    "    if col in processed_stocks.columns:\n",
    "        print(f\"'{col}' exists in the dataset. Sample values:\")\n",
    "        print(processed_stocks[col].head())\n",
    "    else:\n",
    "        print(f\"'{col}' is missing from the dataset.\")\n"
   ]
  },
  {
   "cell_type": "code",
   "execution_count": 22,
   "metadata": {},
   "outputs": [
    {
     "name": "stdout",
     "output_type": "stream",
     "text": [
      "\n",
      "Invalid Values Check:\n",
      "daily_return     1\n",
      "MA_10            9\n",
      "MA_50           49\n",
      "volatility      10\n",
      "dtype: int64\n",
      "\n",
      "Some numerical columns contain invalid values.\n"
     ]
    }
   ],
   "source": [
    "import numpy as np\n",
    "\n",
    "# Check for NaN, infinity, or invalid values in numerical columns\n",
    "numerical_cols = ['Open', 'High', 'Low', 'Close', 'Volume', 'daily_return', 'MA_10', 'MA_50', 'volatility']\n",
    "invalid_values = processed_stocks[numerical_cols].apply(lambda x: (~np.isfinite(x)).sum())\n",
    "print(\"\\nInvalid Values Check:\")\n",
    "print(invalid_values[invalid_values > 0])  # Display only columns with invalid values\n",
    "\n",
    "if invalid_values.sum() == 0:\n",
    "    print(\"\\nNo invalid values found in numerical columns.\")\n",
    "else:\n",
    "    print(\"\\nSome numerical columns contain invalid values.\")\n",
    "\n",
    "# processed_stocks.dropna(inplace=True)\n",
    "\n"
   ]
  },
  {
   "cell_type": "code",
   "execution_count": 23,
   "metadata": {},
   "outputs": [
    {
     "name": "stdout",
     "output_type": "stream",
     "text": [
      "\n",
      "Metadata Columns Check:\n",
      "'Sector' exists in the dataset. Sample values:\n",
      "Sector\n",
      "Technology            307090\n",
      "Industrials           262150\n",
      "Financial Services    250915\n",
      "Healthcare            235935\n",
      "Consumer Cyclical     205975\n",
      "Name: count, dtype: int64\n",
      "'Industry' exists in the dataset. Sample values:\n",
      "Industry\n",
      "Utilities - Regulated Electric    86135\n",
      "Specialty Industrial Machinery    59920\n",
      "Software - Application            56175\n",
      "Semiconductors                    52430\n",
      "Software - Infrastructure         52430\n",
      "Name: count, dtype: int64\n"
     ]
    }
   ],
   "source": [
    "# Verify Sector and Industry columns\n",
    "print(\"\\nMetadata Columns Check:\")\n",
    "metadata_columns = ['Sector', 'Industry']\n",
    "for col in metadata_columns:\n",
    "    if col in processed_stocks.columns:\n",
    "        print(f\"'{col}' exists in the dataset. Sample values:\")\n",
    "        print(processed_stocks[col].value_counts().head())\n",
    "    else:\n",
    "        print(f\"'{col}' is missing from the dataset.\")\n"
   ]
  },
  {
   "cell_type": "code",
   "execution_count": 24,
   "metadata": {},
   "outputs": [],
   "source": [
    "# # Ensure 'Date' column is in datetime format\n",
    "# processed_stocks['Date'] = pd.to_datetime(processed_stocks['Date'])\n",
    "\n",
    "# # Filter rows where the year is 2023\n",
    "# stocks_2023 = processed_stocks[processed_stocks['Date'].dt.year == 2023]\n",
    "\n",
    "# # Display the first few rows of the filtered dataset\n",
    "# print(\"Stocks Data for 2023:\")\n",
    "# print(stocks_2023.info())\n",
    "# print(stocks_2023.tail(n=50))\n"
   ]
  },
  {
   "cell_type": "code",
   "execution_count": 25,
   "metadata": {},
   "outputs": [
    {
     "data": {
      "text/html": [
       "<div>\n",
       "<style scoped>\n",
       "    .dataframe tbody tr th:only-of-type {\n",
       "        vertical-align: middle;\n",
       "    }\n",
       "\n",
       "    .dataframe tbody tr th {\n",
       "        vertical-align: top;\n",
       "    }\n",
       "\n",
       "    .dataframe thead th {\n",
       "        text-align: right;\n",
       "    }\n",
       "</style>\n",
       "<table border=\"1\" class=\"dataframe\">\n",
       "  <thead>\n",
       "    <tr style=\"text-align: right;\">\n",
       "      <th></th>\n",
       "      <th>Date</th>\n",
       "      <th>Symbol</th>\n",
       "      <th>Adj Close</th>\n",
       "      <th>Close</th>\n",
       "      <th>High</th>\n",
       "      <th>Low</th>\n",
       "      <th>Open</th>\n",
       "      <th>Volume</th>\n",
       "      <th>Sector</th>\n",
       "      <th>Industry</th>\n",
       "      <th>daily_return</th>\n",
       "      <th>MA_10</th>\n",
       "      <th>MA_50</th>\n",
       "      <th>volatility</th>\n",
       "    </tr>\n",
       "  </thead>\n",
       "  <tbody>\n",
       "    <tr>\n",
       "      <th>0</th>\n",
       "      <td>2010-01-04</td>\n",
       "      <td>MMM</td>\n",
       "      <td>43.783863</td>\n",
       "      <td>-0.254543</td>\n",
       "      <td>-0.256966</td>\n",
       "      <td>-0.251168</td>\n",
       "      <td>-0.254309</td>\n",
       "      <td>-0.175490</td>\n",
       "      <td>Industrials</td>\n",
       "      <td>Conglomerates</td>\n",
       "      <td>NaN</td>\n",
       "      <td>NaN</td>\n",
       "      <td>NaN</td>\n",
       "      <td>NaN</td>\n",
       "    </tr>\n",
       "    <tr>\n",
       "      <th>1</th>\n",
       "      <td>2010-01-05</td>\n",
       "      <td>MMM</td>\n",
       "      <td>43.509640</td>\n",
       "      <td>-0.257461</td>\n",
       "      <td>-0.258192</td>\n",
       "      <td>-0.256681</td>\n",
       "      <td>-0.255951</td>\n",
       "      <td>-0.191073</td>\n",
       "      <td>Industrials</td>\n",
       "      <td>Conglomerates</td>\n",
       "      <td>0.011465</td>\n",
       "      <td>NaN</td>\n",
       "      <td>NaN</td>\n",
       "      <td>NaN</td>\n",
       "    </tr>\n",
       "    <tr>\n",
       "      <th>2</th>\n",
       "      <td>2010-01-06</td>\n",
       "      <td>MMM</td>\n",
       "      <td>44.126670</td>\n",
       "      <td>-0.250895</td>\n",
       "      <td>-0.250554</td>\n",
       "      <td>-0.246394</td>\n",
       "      <td>-0.249837</td>\n",
       "      <td>0.000770</td>\n",
       "      <td>Industrials</td>\n",
       "      <td>Conglomerates</td>\n",
       "      <td>-0.025504</td>\n",
       "      <td>NaN</td>\n",
       "      <td>NaN</td>\n",
       "      <td>NaN</td>\n",
       "    </tr>\n",
       "    <tr>\n",
       "      <th>3</th>\n",
       "      <td>2010-01-07</td>\n",
       "      <td>MMM</td>\n",
       "      <td>44.158306</td>\n",
       "      <td>-0.250558</td>\n",
       "      <td>-0.255237</td>\n",
       "      <td>-0.254294</td>\n",
       "      <td>-0.253007</td>\n",
       "      <td>-0.062484</td>\n",
       "      <td>Industrials</td>\n",
       "      <td>Conglomerates</td>\n",
       "      <td>-0.001342</td>\n",
       "      <td>NaN</td>\n",
       "      <td>NaN</td>\n",
       "      <td>NaN</td>\n",
       "    </tr>\n",
       "    <tr>\n",
       "      <th>4</th>\n",
       "      <td>2010-01-08</td>\n",
       "      <td>MMM</td>\n",
       "      <td>44.469480</td>\n",
       "      <td>-0.247247</td>\n",
       "      <td>-0.252115</td>\n",
       "      <td>-0.247588</td>\n",
       "      <td>-0.250913</td>\n",
       "      <td>-0.146802</td>\n",
       "      <td>Industrials</td>\n",
       "      <td>Conglomerates</td>\n",
       "      <td>-0.013216</td>\n",
       "      <td>NaN</td>\n",
       "      <td>NaN</td>\n",
       "      <td>NaN</td>\n",
       "    </tr>\n",
       "    <tr>\n",
       "      <th>...</th>\n",
       "      <td>...</td>\n",
       "      <td>...</td>\n",
       "      <td>...</td>\n",
       "      <td>...</td>\n",
       "      <td>...</td>\n",
       "      <td>...</td>\n",
       "      <td>...</td>\n",
       "      <td>...</td>\n",
       "      <td>...</td>\n",
       "      <td>...</td>\n",
       "      <td>...</td>\n",
       "      <td>...</td>\n",
       "      <td>...</td>\n",
       "      <td>...</td>\n",
       "    </tr>\n",
       "    <tr>\n",
       "      <th>1883730</th>\n",
       "      <td>2024-11-12</td>\n",
       "      <td>ZTS</td>\n",
       "      <td>113.020000</td>\n",
       "      <td>0.038151</td>\n",
       "      <td>0.042718</td>\n",
       "      <td>0.044635</td>\n",
       "      <td>0.038344</td>\n",
       "      <td>-0.291565</td>\n",
       "      <td>Healthcare</td>\n",
       "      <td>Drug Manufacturers - Specialty &amp; Generic</td>\n",
       "      <td>0.000000</td>\n",
       "      <td>0.038151</td>\n",
       "      <td>0.038151</td>\n",
       "      <td>0.0</td>\n",
       "    </tr>\n",
       "    <tr>\n",
       "      <th>1883731</th>\n",
       "      <td>2024-11-13</td>\n",
       "      <td>ZTS</td>\n",
       "      <td>113.020000</td>\n",
       "      <td>0.038151</td>\n",
       "      <td>0.042718</td>\n",
       "      <td>0.044635</td>\n",
       "      <td>0.038344</td>\n",
       "      <td>-0.291565</td>\n",
       "      <td>Healthcare</td>\n",
       "      <td>Drug Manufacturers - Specialty &amp; Generic</td>\n",
       "      <td>0.000000</td>\n",
       "      <td>0.038151</td>\n",
       "      <td>0.038151</td>\n",
       "      <td>0.0</td>\n",
       "    </tr>\n",
       "    <tr>\n",
       "      <th>1883732</th>\n",
       "      <td>2024-11-14</td>\n",
       "      <td>ZTS</td>\n",
       "      <td>113.020000</td>\n",
       "      <td>0.038151</td>\n",
       "      <td>0.042718</td>\n",
       "      <td>0.044635</td>\n",
       "      <td>0.038344</td>\n",
       "      <td>-0.291565</td>\n",
       "      <td>Healthcare</td>\n",
       "      <td>Drug Manufacturers - Specialty &amp; Generic</td>\n",
       "      <td>0.000000</td>\n",
       "      <td>0.038151</td>\n",
       "      <td>0.038151</td>\n",
       "      <td>0.0</td>\n",
       "    </tr>\n",
       "    <tr>\n",
       "      <th>1883733</th>\n",
       "      <td>2024-11-15</td>\n",
       "      <td>ZTS</td>\n",
       "      <td>113.020000</td>\n",
       "      <td>0.038151</td>\n",
       "      <td>0.042718</td>\n",
       "      <td>0.044635</td>\n",
       "      <td>0.038344</td>\n",
       "      <td>-0.291565</td>\n",
       "      <td>Healthcare</td>\n",
       "      <td>Drug Manufacturers - Specialty &amp; Generic</td>\n",
       "      <td>0.000000</td>\n",
       "      <td>0.038151</td>\n",
       "      <td>0.038151</td>\n",
       "      <td>0.0</td>\n",
       "    </tr>\n",
       "    <tr>\n",
       "      <th>1883734</th>\n",
       "      <td>2024-11-18</td>\n",
       "      <td>ZTS</td>\n",
       "      <td>113.020000</td>\n",
       "      <td>0.038151</td>\n",
       "      <td>0.042718</td>\n",
       "      <td>0.044635</td>\n",
       "      <td>0.038344</td>\n",
       "      <td>-0.291565</td>\n",
       "      <td>Healthcare</td>\n",
       "      <td>Drug Manufacturers - Specialty &amp; Generic</td>\n",
       "      <td>0.000000</td>\n",
       "      <td>0.038151</td>\n",
       "      <td>0.038151</td>\n",
       "      <td>0.0</td>\n",
       "    </tr>\n",
       "  </tbody>\n",
       "</table>\n",
       "<p>1883735 rows × 14 columns</p>\n",
       "</div>"
      ],
      "text/plain": [
       "               Date Symbol   Adj Close     Close      High       Low  \\\n",
       "0        2010-01-04    MMM   43.783863 -0.254543 -0.256966 -0.251168   \n",
       "1        2010-01-05    MMM   43.509640 -0.257461 -0.258192 -0.256681   \n",
       "2        2010-01-06    MMM   44.126670 -0.250895 -0.250554 -0.246394   \n",
       "3        2010-01-07    MMM   44.158306 -0.250558 -0.255237 -0.254294   \n",
       "4        2010-01-08    MMM   44.469480 -0.247247 -0.252115 -0.247588   \n",
       "...             ...    ...         ...       ...       ...       ...   \n",
       "1883730  2024-11-12    ZTS  113.020000  0.038151  0.042718  0.044635   \n",
       "1883731  2024-11-13    ZTS  113.020000  0.038151  0.042718  0.044635   \n",
       "1883732  2024-11-14    ZTS  113.020000  0.038151  0.042718  0.044635   \n",
       "1883733  2024-11-15    ZTS  113.020000  0.038151  0.042718  0.044635   \n",
       "1883734  2024-11-18    ZTS  113.020000  0.038151  0.042718  0.044635   \n",
       "\n",
       "             Open    Volume       Sector  \\\n",
       "0       -0.254309 -0.175490  Industrials   \n",
       "1       -0.255951 -0.191073  Industrials   \n",
       "2       -0.249837  0.000770  Industrials   \n",
       "3       -0.253007 -0.062484  Industrials   \n",
       "4       -0.250913 -0.146802  Industrials   \n",
       "...           ...       ...          ...   \n",
       "1883730  0.038344 -0.291565   Healthcare   \n",
       "1883731  0.038344 -0.291565   Healthcare   \n",
       "1883732  0.038344 -0.291565   Healthcare   \n",
       "1883733  0.038344 -0.291565   Healthcare   \n",
       "1883734  0.038344 -0.291565   Healthcare   \n",
       "\n",
       "                                         Industry  daily_return     MA_10  \\\n",
       "0                                   Conglomerates           NaN       NaN   \n",
       "1                                   Conglomerates      0.011465       NaN   \n",
       "2                                   Conglomerates     -0.025504       NaN   \n",
       "3                                   Conglomerates     -0.001342       NaN   \n",
       "4                                   Conglomerates     -0.013216       NaN   \n",
       "...                                           ...           ...       ...   \n",
       "1883730  Drug Manufacturers - Specialty & Generic      0.000000  0.038151   \n",
       "1883731  Drug Manufacturers - Specialty & Generic      0.000000  0.038151   \n",
       "1883732  Drug Manufacturers - Specialty & Generic      0.000000  0.038151   \n",
       "1883733  Drug Manufacturers - Specialty & Generic      0.000000  0.038151   \n",
       "1883734  Drug Manufacturers - Specialty & Generic      0.000000  0.038151   \n",
       "\n",
       "            MA_50  volatility  \n",
       "0             NaN         NaN  \n",
       "1             NaN         NaN  \n",
       "2             NaN         NaN  \n",
       "3             NaN         NaN  \n",
       "4             NaN         NaN  \n",
       "...           ...         ...  \n",
       "1883730  0.038151         0.0  \n",
       "1883731  0.038151         0.0  \n",
       "1883732  0.038151         0.0  \n",
       "1883733  0.038151         0.0  \n",
       "1883734  0.038151         0.0  \n",
       "\n",
       "[1883735 rows x 14 columns]"
      ]
     },
     "execution_count": 25,
     "metadata": {},
     "output_type": "execute_result"
    }
   ],
   "source": [
    "processed_stocks"
   ]
  }
 ],
 "metadata": {
  "kernelspec": {
   "display_name": "Python 3",
   "language": "python",
   "name": "python3"
  },
  "language_info": {
   "codemirror_mode": {
    "name": "ipython",
    "version": 3
   },
   "file_extension": ".py",
   "mimetype": "text/x-python",
   "name": "python",
   "nbconvert_exporter": "python",
   "pygments_lexer": "ipython3",
   "version": "3.12.7"
  }
 },
 "nbformat": 4,
 "nbformat_minor": 2
}
