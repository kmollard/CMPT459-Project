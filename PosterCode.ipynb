{
 "cells": [
  {
   "cell_type": "code",
   "execution_count": 1,
   "metadata": {},
   "outputs": [],
   "source": [
    "# Core libraries\n",
    "from datetime import datetime, timedelta\n",
    "import numpy as np\n",
    "import pandas as pd\n",
    "\n",
    "# Visualization\n",
    "import matplotlib.pyplot as plt\n",
    "import seaborn as sns\n",
    "from statsmodels.graphics.tsaplots import plot_acf, plot_pacf\n",
    "\n",
    "# Statistical modeling and time series\n",
    "from arch import arch_model\n",
    "from statsmodels.tsa.arima.model import ARIMA\n",
    "\n",
    "# Machine Learning\n",
    "from sklearn.preprocessing import StandardScaler, OneHotEncoder\n",
    "from sklearn.decomposition import PCA\n",
    "from sklearn.cluster import KMeans\n",
    "from sklearn.ensemble import RandomForestClassifier, IsolationForest\n",
    "from sklearn.linear_model import LogisticRegression, Ridge\n",
    "from sklearn.metrics import silhouette_score\n",
    "from sklearn.model_selection import GridSearchCV\n",
    "\n",
    "# Statistical utilities\n",
    "from scipy.stats import zscore\n",
    "\n",
    "# Dynamic time warping for time series\n",
    "from tslearn.metrics import dtw"
   ]
  },
  {
   "cell_type": "code",
   "execution_count": 2,
   "metadata": {},
   "outputs": [
    {
     "name": "stdout",
     "output_type": "stream",
     "text": [
      "\n",
      "Loading datasets...\n"
     ]
    }
   ],
   "source": [
    "# PREPROCESSING\n",
    "\n",
    "print(\"\\nLoading datasets...\")\n",
    "\n",
    "# Load the datasets\n",
    "sp500_index = pd.read_csv('sp500_index.csv')\n",
    "sp500_stocks = pd.read_csv('sp500_stocks.csv')\n",
    "sp500_companies = pd.read_csv('sp500_companies.csv')\n",
    "\n",
    "# Parse date columns\n",
    "sp500_index['Date'] = pd.to_datetime(sp500_index['Date'])\n",
    "sp500_stocks['Date'] = pd.to_datetime(sp500_stocks['Date'])"
   ]
  },
  {
   "cell_type": "code",
   "execution_count": 3,
   "metadata": {},
   "outputs": [
    {
     "name": "stdout",
     "output_type": "stream",
     "text": [
      "Date             0\n",
      "Symbol           0\n",
      "Adj Close    88780\n",
      "Close        88780\n",
      "High         88780\n",
      "Low          88780\n",
      "Open         88780\n",
      "Volume       88780\n",
      "dtype: int64\n",
      "Adj Close    0\n",
      "Close        0\n",
      "High         0\n",
      "Low          0\n",
      "Open         0\n",
      "Volume       0\n",
      "dtype: int64\n"
     ]
    }
   ],
   "source": [
    "# check for missing values\n",
    "print(sp500_stocks.isnull().sum())\n",
    "\n",
    "# select only numeric columns for imputation\n",
    "numeric_columns = sp500_stocks.select_dtypes(include=[np.number]).columns\n",
    "\n",
    "# fill missing values for numeric columns with the median\n",
    "sp500_stocks[numeric_columns] = sp500_stocks[numeric_columns].fillna(sp500_stocks[numeric_columns].median())\n",
    "\n",
    "# verify that there are no more missing values in the numeric columns\n",
    "print(sp500_stocks[numeric_columns].isnull().sum())\n"
   ]
  },
  {
   "cell_type": "code",
   "execution_count": 4,
   "metadata": {},
   "outputs": [],
   "source": [
    "# handle missing values for categorical columns\n",
    "categorical_columns = sp500_stocks.select_dtypes(include=['object']).columns\n",
    "sp500_stocks[categorical_columns] = sp500_stocks[categorical_columns].fillna('Unknown')"
   ]
  },
  {
   "cell_type": "code",
   "execution_count": 5,
   "metadata": {},
   "outputs": [
    {
     "data": {
      "text/plain": [
       "array([[-0.27114035, -0.16510088, -0.16698204, -0.16259932, -0.16475899,\n",
       "        -0.10752494, -0.02248515, -0.07361241, -0.29593839],\n",
       "       [-0.27243788, -0.16730547, -0.16790394, -0.166762  , -0.16598893,\n",
       "        -0.11970073, -0.07703169, -0.24966863, -0.18262947],\n",
       "       [-0.26951838, -0.16234519, -0.162163  , -0.15899448, -0.16140849,\n",
       "         0.0301909 , -0.05569003, -0.17879106, -0.24910475],\n",
       "       [-0.2693686 , -0.1620908 , -0.16568298, -0.16495959, -0.16378354,\n",
       "        -0.01923029,  0.09135149,  0.29127717, -0.16601099],\n",
       "       [-0.26789632, -0.15958946, -0.16333634, -0.15989571, -0.16221433,\n",
       "        -0.08511081,  0.14352626,  0.45633311, -0.25967965]])"
      ]
     },
     "execution_count": 5,
     "metadata": {},
     "output_type": "execute_result"
    }
   ],
   "source": [
    "from sklearn.preprocessing import StandardScaler\n",
    "\n",
    "sp500_stocks['Price Change'] = sp500_stocks['Close'] - sp500_stocks['Open']\n",
    "sp500_stocks['Pct Change'] = ((sp500_stocks['Close'] - sp500_stocks['Open']) / sp500_stocks['Open']) * 100\n",
    "sp500_stocks['Volatility'] = sp500_stocks['High'] - sp500_stocks['Low']\n",
    "\n",
    "# select numerical features for clustering\n",
    "clustering_features = sp500_stocks[['Open', 'High', 'Low', 'Volume', 'Price Change', 'Pct Change', 'Volatility']]\n",
    "\n",
    "numeric_columns = sp500_stocks.select_dtypes(include=[np.number]).columns\n",
    "clustering_features = sp500_stocks[numeric_columns]\n",
    "\n",
    "# standardize the data\n",
    "scaler = StandardScaler()\n",
    "scaled_features = scaler.fit_transform(clustering_features)\n",
    "\n",
    "# check the scaled features\n",
    "scaled_features[:5]  # Display the first 5 scaled rows"
   ]
  },
  {
   "cell_type": "code",
   "execution_count": 6,
   "metadata": {},
   "outputs": [],
   "source": [
    "from sklearn.preprocessing import StandardScaler\n",
    "scaler = StandardScaler()\n",
    "scaled_features = scaler.fit_transform(clustering_features)"
   ]
  },
  {
   "cell_type": "code",
   "execution_count": 7,
   "metadata": {},
   "outputs": [],
   "source": [
    "# from sklearn.cluster import KMeans\n",
    "# import matplotlib.pyplot as plt\n",
    "\n",
    "# # elbow method to find the optimal number of clusters\n",
    "# inertia = []\n",
    "# k_range = range(1, 11)\n",
    "# for k in k_range:\n",
    "#     kmeans = KMeans(n_clusters=k, random_state=42, n_init=10)  # Explicitly set n_init\n",
    "#     kmeans.fit(scaled_features)\n",
    "#     inertia.append(kmeans.inertia_)"
   ]
  },
  {
   "cell_type": "code",
   "execution_count": 8,
   "metadata": {},
   "outputs": [],
   "source": [
    "# # plotting the elbow curve\n",
    "# plt.figure(figsize=(8, 5))\n",
    "# plt.plot(k_range, inertia, 'bo-', markersize=8)\n",
    "# plt.title('Elbow Method for Optimal Number of Clusters')\n",
    "# plt.xlabel('Number of Clusters (k)')\n",
    "# plt.ylabel('Inertia')\n",
    "# plt.grid(True)\n",
    "# plt.show()"
   ]
  },
  {
   "cell_type": "code",
   "execution_count": 9,
   "metadata": {},
   "outputs": [],
   "source": [
    "# # apply KMeans clustering with the optimal number of clusters\n",
    "# kmeans = KMeans(n_clusters=4, random_state=42, n_init=10)\n",
    "# kmeans.fit(scaled_features)\n",
    "\n",
    "# # add the cluster labels to the original DataFrame\n",
    "# sp500_stocks['Cluster'] = kmeans.labels_\n",
    "\n",
    "# # display the first few rows with the cluster labels\n",
    "# sp500_stocks.head()"
   ]
  },
  {
   "cell_type": "code",
   "execution_count": 10,
   "metadata": {},
   "outputs": [],
   "source": [
    "# from sklearn.decomposition import PCA\n",
    "\n",
    "# # Perform PCA to reduce to 2 dimensions for visualization\n",
    "# pca = PCA(n_components=2)\n",
    "# principal_components = pca.fit_transform(scaled_features)\n",
    "\n",
    "# # Plot the clusters after PCA transformation\n",
    "# plt.figure(figsize=(10, 7))\n",
    "# plt.scatter(principal_components[:, 0], principal_components[:, 1], c=kmeans.labels_, cmap='plasma', s=5)\n",
    "# plt.title('K-Means Clustering After PCA')\n",
    "# plt.xlabel('Principal Component 1')\n",
    "# plt.ylabel('Principal Component 2')\n",
    "# plt.grid(True)\n",
    "# plt.show()"
   ]
  },
  {
   "cell_type": "code",
   "execution_count": 11,
   "metadata": {},
   "outputs": [],
   "source": [
    "# from sklearn.metrics import davies_bouldin_score\n",
    "\n",
    "# # Compute Davies-Bouldin index\n",
    "# db_score = davies_bouldin_score(scaled_features, kmeans.labels_)\n",
    "# print(f'Davies-Bouldin Index: {db_score:.3f}')"
   ]
  },
  {
   "cell_type": "code",
   "execution_count": 12,
   "metadata": {},
   "outputs": [],
   "source": [
    "# Clean sp500_stocks\n",
    "relevant_columns = ['Adj Close', 'Close', 'High', 'Low', 'Open', 'Volume']\n",
    "sp500_stocks_cleaned = sp500_stocks.dropna(subset=relevant_columns, how='all')\n",
    "\n",
    "# Compute daily returns\n",
    "sp500_stocks_cleaned['Return'] = sp500_stocks_cleaned.groupby('Symbol')['Close'].pct_change()\n",
    "\n",
    "# Drop rows with NaN values in 'Return' and 'Volume'\n",
    "sp500_stocks_cleaned = sp500_stocks_cleaned[['Return', 'Volume']].dropna()"
   ]
  },
  {
   "cell_type": "code",
   "execution_count": 13,
   "metadata": {},
   "outputs": [
    {
     "name": "stdout",
     "output_type": "stream",
     "text": [
      "k-NN Accuracy: 0.4781746031746032\n",
      "\n",
      "Classification Report (k-NN):\n",
      "              precision    recall  f1-score   support\n",
      "\n",
      "           0       0.44      0.35      0.39       240\n",
      "           1       0.50      0.59      0.54       264\n",
      "\n",
      "    accuracy                           0.48       504\n",
      "   macro avg       0.47      0.47      0.47       504\n",
      "weighted avg       0.47      0.48      0.47       504\n",
      "\n",
      "\n",
      "Average CV Accuracy (k-NN): 0.4888\n",
      "\n",
      "Testing different values of k for k-NN:\n",
      "k=1, Cross-Validation Accuracy: 0.4774\n",
      "k=2, Cross-Validation Accuracy: 0.4804\n",
      "k=3, Cross-Validation Accuracy: 0.4928\n",
      "k=4, Cross-Validation Accuracy: 0.4734\n",
      "k=5, Cross-Validation Accuracy: 0.4888\n",
      "k=6, Cross-Validation Accuracy: 0.4769\n",
      "k=7, Cross-Validation Accuracy: 0.4898\n",
      "k=8, Cross-Validation Accuracy: 0.4779\n",
      "k=9, Cross-Validation Accuracy: 0.4988\n",
      "k=10, Cross-Validation Accuracy: 0.4819\n"
     ]
    }
   ],
   "source": [
    "import pandas as pd\n",
    "import numpy as np\n",
    "from sklearn.model_selection import train_test_split, cross_val_score\n",
    "from sklearn.preprocessing import StandardScaler\n",
    "from sklearn.neighbors import KNeighborsClassifier\n",
    "from sklearn.metrics import classification_report, accuracy_score\n",
    "\n",
    "# Load datasets\n",
    "sp500_stocks = pd.read_csv(\"sp500_stocks.csv\")\n",
    "sp500_index = pd.read_csv(\"sp500_index.csv\")\n",
    "\n",
    "# Preprocess the sp500_stocks dataset\n",
    "sp500_stocks['Date'] = pd.to_datetime(sp500_stocks['Date'])\n",
    "sp500_stocks['Close'] = sp500_stocks['Close'].ffill()  # Forward-fill missing Close prices\n",
    "sp500_stocks['Return'] = sp500_stocks.groupby('Symbol')['Close'].pct_change()  # Calculate daily returns\n",
    "\n",
    "# Aggregate stock data to daily level\n",
    "daily_aggregated = sp500_stocks.groupby('Date').agg({\n",
    "    'Volume': 'sum',            # Sum of trading volumes\n",
    "    'Return': 'mean',           # Average return across stocks\n",
    "    'Close': 'mean'             # Average closing price\n",
    "}).reset_index()\n",
    "\n",
    "# Calculate additional features\n",
    "daily_aggregated['Volatility'] = sp500_stocks.groupby('Date')['Return'].std().values  # Daily return volatility\n",
    "daily_aggregated['5Day_MA'] = daily_aggregated['Close'].rolling(window=5).mean()      # 5-day moving average\n",
    "daily_aggregated['Momentum'] = daily_aggregated['Return'].rolling(window=5).sum()    # 5-day momentum\n",
    "\n",
    "# Merge with the sp500_index dataset\n",
    "sp500_index['Date'] = pd.to_datetime(sp500_index['Date'])\n",
    "merged_data = pd.merge(sp500_index, daily_aggregated, on='Date', how='inner')\n",
    "\n",
    "# Define features (X) and target variable (y)\n",
    "X = merged_data[['Volume', 'Return', 'Volatility', '5Day_MA', 'Momentum']]  # Enhanced feature set\n",
    "y = (merged_data['S&P500'].shift(-1) > merged_data['S&P500']).astype(int)  # Target: 1 if index increases\n",
    "\n",
    "# Drop the last row to align with the shifted target variable\n",
    "X = X[:-1]\n",
    "y = y[:-1]\n",
    "\n",
    "# Split the dataset\n",
    "X_train, X_test, y_train, y_test = train_test_split(X, y, test_size=0.2, random_state=42)\n",
    "\n",
    "# Standardize the features (important for k-NN)\n",
    "scaler = StandardScaler()\n",
    "X_train_scaled = scaler.fit_transform(X_train)\n",
    "X_test_scaled = scaler.transform(X_test)\n",
    "\n",
    "# Train k-NN Classifier\n",
    "knn = KNeighborsClassifier(n_neighbors=5)\n",
    "knn.fit(X_train_scaled, y_train)\n",
    "\n",
    "# Make Predictions\n",
    "y_pred = knn.predict(X_test_scaled)\n",
    "\n",
    "# Evaluate the model\n",
    "print(\"k-NN Accuracy:\", accuracy_score(y_test, y_pred))\n",
    "print(\"\\nClassification Report (k-NN):\")\n",
    "print(classification_report(y_test, y_pred))\n",
    "\n",
    "# Cross-Validation\n",
    "cv_scores_knn = cross_val_score(knn, X_train_scaled, y_train, cv=5, scoring='accuracy')\n",
    "print(f\"\\nAverage CV Accuracy (k-NN): {np.mean(cv_scores_knn):.4f}\")\n",
    "\n",
    "# Experiment with different values of k\n",
    "print(\"\\nTesting different values of k for k-NN:\")\n",
    "for k in range(1, 11):\n",
    "    knn_temp = KNeighborsClassifier(n_neighbors=k)\n",
    "    scores = cross_val_score(knn_temp, X_train_scaled, y_train, cv=5, scoring='accuracy')\n",
    "    print(f\"k={k}, Cross-Validation Accuracy: {np.mean(scores):.4f}\")\n"
   ]
  },
  {
   "cell_type": "code",
   "execution_count": 14,
   "metadata": {},
   "outputs": [
    {
     "name": "stdout",
     "output_type": "stream",
     "text": [
      "\n",
      "Logistic Regression Accuracy: 0.5396825396825397\n",
      "\n",
      "Classification Report (Logistic Regression):\n",
      "              precision    recall  f1-score   support\n",
      "\n",
      "           0       0.67      0.07      0.12       240\n",
      "           1       0.53      0.97      0.69       264\n",
      "\n",
      "    accuracy                           0.54       504\n",
      "   macro avg       0.60      0.52      0.40       504\n",
      "weighted avg       0.60      0.54      0.42       504\n",
      "\n",
      "\n",
      "Random Forest Accuracy: 0.5059523809523809\n",
      "\n",
      "Classification Report (Random Forest):\n",
      "              precision    recall  f1-score   support\n",
      "\n",
      "           0       0.48      0.40      0.43       240\n",
      "           1       0.52      0.61      0.56       264\n",
      "\n",
      "    accuracy                           0.51       504\n",
      "   macro avg       0.50      0.50      0.50       504\n",
      "weighted avg       0.50      0.51      0.50       504\n",
      "\n",
      "\n",
      "Best k for k-NN: {'n_neighbors': 15}\n",
      "Best Cross-Validation Accuracy for k-NN: 0.5161549572238066\n"
     ]
    }
   ],
   "source": [
    "# Fix for FutureWarning\n",
    "sp500_stocks['Close'] = sp500_stocks['Close'].ffill()  # Forward-fill missing Close prices\n",
    "\n",
    "# Example: Testing Logistic Regression for comparison\n",
    "from sklearn.linear_model import LogisticRegression\n",
    "\n",
    "log_reg = LogisticRegression(random_state=42)\n",
    "log_reg.fit(X_train_scaled, y_train)\n",
    "\n",
    "y_pred_lr = log_reg.predict(X_test_scaled)\n",
    "print(\"\\nLogistic Regression Accuracy:\", accuracy_score(y_test, y_pred_lr))\n",
    "print(\"\\nClassification Report (Logistic Regression):\")\n",
    "print(classification_report(y_test, y_pred_lr))\n",
    "\n",
    "# Example: Testing Random Forest for comparison\n",
    "from sklearn.ensemble import RandomForestClassifier\n",
    "\n",
    "rf_model = RandomForestClassifier(n_estimators=100, random_state=42)\n",
    "rf_model.fit(X_train_scaled, y_train)\n",
    "\n",
    "y_pred_rf = rf_model.predict(X_test_scaled)\n",
    "print(\"\\nRandom Forest Accuracy:\", accuracy_score(y_test, y_pred_rf))\n",
    "print(\"\\nClassification Report (Random Forest):\")\n",
    "print(classification_report(y_test, y_pred_rf))\n",
    "\n",
    "# Grid Search for Optimal k in k-NN\n",
    "from sklearn.model_selection import GridSearchCV\n",
    "\n",
    "param_grid = {'n_neighbors': range(1, 21)}\n",
    "grid_search = GridSearchCV(KNeighborsClassifier(), param_grid, cv=5, scoring='accuracy')\n",
    "grid_search.fit(X_train_scaled, y_train)\n",
    "\n",
    "print(\"\\nBest k for k-NN:\", grid_search.best_params_)\n",
    "print(\"Best Cross-Validation Accuracy for k-NN:\", grid_search.best_score_)\n"
   ]
  },
  {
   "cell_type": "code",
   "execution_count": 15,
   "metadata": {},
   "outputs": [
    {
     "name": "stdout",
     "output_type": "stream",
     "text": [
      "Random Forest AUC-ROC: 0.5009\n"
     ]
    },
    {
     "data": {
      "image/png": "[encoded data removed]",
      "text/plain": [
       "<Figure size 800x600 with 1 Axes>"
      ]
     },
     "metadata": {},
     "output_type": "display_data"
    }
   ],
   "source": [
    "from sklearn.metrics import roc_auc_score, roc_curve\n",
    "import matplotlib.pyplot as plt\n",
    "\n",
    "# Compute ROC AUC\n",
    "y_proba_rf = rf_model.predict_proba(X_test_scaled)[:, 1]\n",
    "roc_auc = roc_auc_score(y_test, y_proba_rf)\n",
    "print(f\"Random Forest AUC-ROC: {roc_auc:.4f}\")\n",
    "\n",
    "# Plot ROC Curve\n",
    "fpr, tpr, _ = roc_curve(y_test, y_proba_rf)\n",
    "plt.figure(figsize=(8, 6))\n",
    "plt.plot(fpr, tpr, label=f'Random Forest (AUC = {roc_auc:.4f})')\n",
    "plt.plot([0, 1], [0, 1], 'k--', label='Random Guess')\n",
    "plt.xlabel('False Positive Rate')\n",
    "plt.ylabel('True Positive Rate')\n",
    "plt.title('ROC Curve')\n",
    "plt.legend()\n",
    "plt.grid()\n",
    "plt.show()\n"
   ]
  },
  {
   "cell_type": "code",
   "execution_count": 16,
   "metadata": {},
   "outputs": [
    {
     "name": "stdout",
     "output_type": "stream",
     "text": [
      "Random Forest Precision-Recall AUC: 0.5133\n"
     ]
    },
    {
     "data": {
      "image/png": "[encoded data removed]",
      "text/plain": [
       "<Figure size 800x600 with 1 Axes>"
      ]
     },
     "metadata": {},
     "output_type": "display_data"
    }
   ],
   "source": [
    "from sklearn.metrics import precision_recall_curve, auc\n",
    "\n",
    "# Compute Precision-Recall Curve\n",
    "precision, recall, _ = precision_recall_curve(y_test, y_proba_rf)\n",
    "pr_auc = auc(recall, precision)\n",
    "print(f\"Random Forest Precision-Recall AUC: {pr_auc:.4f}\")\n",
    "\n",
    "# Plot Precision-Recall Curve\n",
    "plt.figure(figsize=(8, 6))\n",
    "plt.plot(recall, precision, label=f'Random Forest (AUC = {pr_auc:.4f})')\n",
    "plt.xlabel('Recall')\n",
    "plt.ylabel('Precision')\n",
    "plt.title('Precision-Recall Curve')\n",
    "plt.legend()\n",
    "plt.grid()\n",
    "plt.show()\n"
   ]
  },
  {
   "cell_type": "code",
   "execution_count": 17,
   "metadata": {},
   "outputs": [
    {
     "name": "stdout",
     "output_type": "stream",
     "text": [
      "\n",
      "XGBoost Accuracy: 0.49206349206349204\n",
      "\n",
      "Classification Report (XGBoost):\n",
      "              precision    recall  f1-score   support\n",
      "\n",
      "           0       0.46      0.41      0.44       240\n",
      "           1       0.51      0.56      0.54       264\n",
      "\n",
      "    accuracy                           0.49       504\n",
      "   macro avg       0.49      0.49      0.49       504\n",
      "weighted avg       0.49      0.49      0.49       504\n",
      "\n",
      "\n",
      "Average CV Accuracy (XGBoost): 0.4943\n"
     ]
    }
   ],
   "source": [
    "from xgboost import XGBClassifier\n",
    "from sklearn.model_selection import cross_val_score\n",
    "\n",
    "# Train XGBoost Classifier\n",
    "xgb_model = XGBClassifier(eval_metric='logloss', random_state=42)  # Remove use_label_encoder\n",
    "\n",
    "xgb_model.fit(X_train_scaled, y_train)\n",
    "\n",
    "# Make Predictions\n",
    "y_pred_xgb = xgb_model.predict(X_test_scaled)\n",
    "\n",
    "# Evaluate XGBoost\n",
    "print(\"\\nXGBoost Accuracy:\", accuracy_score(y_test, y_pred_xgb))\n",
    "print(\"\\nClassification Report (XGBoost):\")\n",
    "print(classification_report(y_test, y_pred_xgb))\n",
    "\n",
    "# Cross-Validation for XGBoost\n",
    "cv_scores_xgb = cross_val_score(xgb_model, X_train_scaled, y_train, cv=5, scoring='accuracy')\n",
    "print(f\"\\nAverage CV Accuracy (XGBoost): {np.mean(cv_scores_xgb):.4f}\")\n"
   ]
  },
  {
   "cell_type": "code",
   "execution_count": 18,
   "metadata": {},
   "outputs": [
    {
     "name": "stdout",
     "output_type": "stream",
     "text": [
      "\n",
      "SVM Accuracy: 0.5198412698412699\n",
      "\n",
      "Classification Report (SVM):\n",
      "              precision    recall  f1-score   support\n",
      "\n",
      "           0       0.45      0.04      0.08       240\n",
      "           1       0.52      0.95      0.68       264\n",
      "\n",
      "    accuracy                           0.52       504\n",
      "   macro avg       0.49      0.50      0.38       504\n",
      "weighted avg       0.49      0.52      0.39       504\n",
      "\n",
      "\n",
      "Average CV Accuracy (SVM): 0.5236\n"
     ]
    }
   ],
   "source": [
    "from sklearn.svm import SVC\n",
    "\n",
    "# Train SVM Classifier\n",
    "svm_model = SVC(kernel='rbf', random_state=42)\n",
    "svm_model.fit(X_train_scaled, y_train)\n",
    "\n",
    "# Make Predictions\n",
    "y_pred_svm = svm_model.predict(X_test_scaled)\n",
    "\n",
    "# Evaluate SVM\n",
    "print(\"\\nSVM Accuracy:\", accuracy_score(y_test, y_pred_svm))\n",
    "print(\"\\nClassification Report (SVM):\")\n",
    "print(classification_report(y_test, y_pred_svm))\n",
    "\n",
    "# Cross-Validation for SVM\n",
    "cv_scores_svm = cross_val_score(svm_model, X_train_scaled, y_train, cv=5, scoring='accuracy')\n",
    "print(f\"\\nAverage CV Accuracy (SVM): {np.mean(cv_scores_svm):.4f}\")\n"
   ]
  },
  {
   "cell_type": "code",
   "execution_count": 19,
   "metadata": {},
   "outputs": [],
   "source": [
    "# from sklearn.model_selection import GridSearchCV\n",
    "\n",
    "# # Define parameter grid\n",
    "# param_grid_svm = {\n",
    "#     'C': [0.1, 1, 10, 100],\n",
    "#     'kernel': ['linear', 'rbf'],\n",
    "#     'gamma': [1, 0.1, 0.01, 0.001]\n",
    "# }\n",
    "\n",
    "# # Perform Grid Search\n",
    "# grid_search_svm = GridSearchCV(SVC(random_state=42), param_grid_svm, cv=5, scoring='accuracy')\n",
    "# grid_search_svm.fit(X_train_scaled, y_train)\n",
    "\n",
    "# # Best parameters and score\n",
    "# print(\"Best parameters for SVM:\", grid_search_svm.best_params_)\n",
    "# print(\"Best CV Accuracy for SVM:\", grid_search_svm.best_score_)\n"
   ]
  },
  {
   "cell_type": "code",
   "execution_count": 20,
   "metadata": {},
   "outputs": [],
   "source": [
    "# from sklearn.model_selection import GridSearchCV\n",
    "\n",
    "# # Define parameter grid\n",
    "# param_grid_xgb = {\n",
    "#     'n_estimators': [50, 100, 200],\n",
    "#     'max_depth': [3, 5, 7],\n",
    "#     'learning_rate': [0.01, 0.1, 0.2],\n",
    "#     'subsample': [0.8, 1.0]\n",
    "# }\n",
    "\n",
    "# # Perform Grid Search\n",
    "# grid_search_xgb = GridSearchCV(XGBClassifier(eval_metric='logloss', random_state=42), \n",
    "#                                param_grid_xgb, cv=5, scoring='accuracy')\n",
    "# grid_search_xgb.fit(X_train_scaled, y_train)\n",
    "\n",
    "# # Best parameters and score\n",
    "# print(\"Best parameters for XGBoost:\", grid_search_xgb.best_params_)\n",
    "# print(\"Best CV Accuracy for XGBoost:\", grid_search_xgb.best_score_)\n"
   ]
  },
  {
   "cell_type": "code",
   "execution_count": 21,
   "metadata": {},
   "outputs": [
    {
     "name": "stdout",
     "output_type": "stream",
     "text": [
      "Selected Features (RFE): Index(['Volume', 'Return', 'Momentum'], dtype='object')\n",
      "RFE Accuracy: 0.5297619047619048\n",
      "RFE Classification Report:\n",
      "              precision    recall  f1-score   support\n",
      "\n",
      "           0       0.60      0.04      0.07       240\n",
      "           1       0.53      0.98      0.69       264\n",
      "\n",
      "    accuracy                           0.53       504\n",
      "   macro avg       0.56      0.51      0.38       504\n",
      "weighted avg       0.56      0.53      0.39       504\n",
      "\n"
     ]
    }
   ],
   "source": [
    "from sklearn.feature_selection import RFE\n",
    "from sklearn.linear_model import LogisticRegression\n",
    "from sklearn.ensemble import RandomForestClassifier\n",
    "\n",
    "# Initialize the base model for RFE (can also use RandomForestClassifier)\n",
    "base_model = LogisticRegression(random_state=42)\n",
    "\n",
    "# Apply RFE\n",
    "rfe = RFE(estimator=base_model, n_features_to_select=3)  # Select top 3 features\n",
    "rfe.fit(X_train_scaled, y_train)\n",
    "\n",
    "# Get selected features\n",
    "selected_features_rfe = X.columns[rfe.support_]\n",
    "print(\"Selected Features (RFE):\", selected_features_rfe)\n",
    "\n",
    "# Train a model using only the selected features\n",
    "X_train_rfe = X_train_scaled[:, rfe.support_]\n",
    "X_test_rfe = X_test_scaled[:, rfe.support_]\n",
    "base_model.fit(X_train_rfe, y_train)\n",
    "y_pred_rfe = base_model.predict(X_test_rfe)\n",
    "\n",
    "# Evaluate model performance\n",
    "print(\"RFE Accuracy:\", accuracy_score(y_test, y_pred_rfe))\n",
    "print(\"RFE Classification Report:\")\n",
    "print(classification_report(y_test, y_pred_rfe))\n"
   ]
  },
  {
   "cell_type": "code",
   "execution_count": 23,
   "metadata": {},
   "outputs": [
    {
     "name": "stdout",
     "output_type": "stream",
     "text": [
      "Selected Features (RFE): Index(['Volume', 'Return', 'Momentum'], dtype='object')\n",
      "RFE Accuracy: 0.5297619047619048\n",
      "RFE Classification Report:\n",
      "              precision    recall  f1-score   support\n",
      "\n",
      "           0       0.60      0.04      0.07       240\n",
      "           1       0.53      0.98      0.69       264\n",
      "\n",
      "    accuracy                           0.53       504\n",
      "   macro avg       0.56      0.51      0.38       504\n",
      "weighted avg       0.56      0.53      0.39       504\n",
      "\n"
     ]
    }
   ],
   "source": [
    "from sklearn.feature_selection import RFE\n",
    "from sklearn.linear_model import LogisticRegression\n",
    "from sklearn.ensemble import RandomForestClassifier\n",
    "\n",
    "# Initialize the base model for RFE (can also use RandomForestClassifier)\n",
    "base_model = LogisticRegression(random_state=42)\n",
    "\n",
    "# Apply RFE\n",
    "rfe = RFE(estimator=base_model, n_features_to_select=3)  # Select top 3 features\n",
    "rfe.fit(X_train_scaled, y_train)\n",
    "\n",
    "# Get selected features\n",
    "selected_features_rfe = X.columns[rfe.support_]\n",
    "print(\"Selected Features (RFE):\", selected_features_rfe)\n",
    "\n",
    "# Train a model using only the selected features\n",
    "X_train_rfe = X_train_scaled[:, rfe.support_]\n",
    "X_test_rfe = X_test_scaled[:, rfe.support_]\n",
    "base_model.fit(X_train_rfe, y_train)\n",
    "y_pred_rfe = base_model.predict(X_test_rfe)\n",
    "\n",
    "# Evaluate model performance\n",
    "print(\"RFE Accuracy:\", accuracy_score(y_test, y_pred_rfe))\n",
    "print(\"RFE Classification Report:\")\n",
    "print(classification_report(y_test, y_pred_rfe))\n"
   ]
  },
  {
   "cell_type": "code",
   "execution_count": 24,
   "metadata": {},
   "outputs": [
    {
     "name": "stdout",
     "output_type": "stream",
     "text": [
      "Selected Features (Lasso): Index(['Volume', 'Return', 'Momentum'], dtype='object')\n",
      "Lasso Accuracy: 0.5337301587301587\n",
      "Lasso Classification Report:\n",
      "              precision    recall  f1-score   support\n",
      "\n",
      "           0       0.69      0.04      0.07       240\n",
      "           1       0.53      0.98      0.69       264\n",
      "\n",
      "    accuracy                           0.53       504\n",
      "   macro avg       0.61      0.51      0.38       504\n",
      "weighted avg       0.61      0.53      0.39       504\n",
      "\n"
     ]
    }
   ],
   "source": [
    "from sklearn.linear_model import LogisticRegressionCV\n",
    "\n",
    "# Lasso-based feature selection using LogisticRegressionCV with L1 penalty\n",
    "lasso_model = LogisticRegressionCV(cv=5, penalty='l1', solver='saga', random_state=42, max_iter=5000)\n",
    "lasso_model.fit(X_train_scaled, y_train)\n",
    "\n",
    "# Get selected features\n",
    "selected_features_lasso = X.columns[lasso_model.coef_[0] != 0]\n",
    "print(\"Selected Features (Lasso):\", selected_features_lasso)\n",
    "\n",
    "# Train and evaluate a model using only the selected features\n",
    "X_train_lasso = X_train_scaled[:, lasso_model.coef_[0] != 0]\n",
    "X_test_lasso = X_test_scaled[:, lasso_model.coef_[0] != 0]\n",
    "lasso_model.fit(X_train_lasso, y_train)\n",
    "y_pred_lasso = lasso_model.predict(X_test_lasso)\n",
    "\n",
    "# Evaluate model performance\n",
    "print(\"Lasso Accuracy:\", accuracy_score(y_test, y_pred_lasso))\n",
    "print(\"Lasso Classification Report:\")\n",
    "print(classification_report(y_test, y_pred_lasso))\n"
   ]
  },
  {
   "cell_type": "code",
   "execution_count": 25,
   "metadata": {},
   "outputs": [
    {
     "name": "stdout",
     "output_type": "stream",
     "text": [
      "Selected Features (Mutual Information): Index(['Volatility', '5Day_MA', 'Momentum'], dtype='object')\n",
      "Mutual Information Accuracy: 0.5257936507936508\n",
      "Mutual Information Classification Report:\n",
      "              precision    recall  f1-score   support\n",
      "\n",
      "           0       0.52      0.05      0.10       240\n",
      "           1       0.53      0.95      0.68       264\n",
      "\n",
      "    accuracy                           0.53       504\n",
      "   macro avg       0.52      0.50      0.39       504\n",
      "weighted avg       0.52      0.53      0.40       504\n",
      "\n"
     ]
    }
   ],
   "source": [
    "from sklearn.feature_selection import mutual_info_classif\n",
    "from sklearn.feature_selection import SelectKBest\n",
    "\n",
    "# Compute mutual information scores\n",
    "mi_scores = mutual_info_classif(X_train_scaled, y_train)\n",
    "\n",
    "# Select top k features\n",
    "k = 3  # Number of top features to select\n",
    "mi_selector = SelectKBest(mutual_info_classif, k=k)\n",
    "X_train_mi = mi_selector.fit_transform(X_train_scaled, y_train)\n",
    "X_test_mi = mi_selector.transform(X_test_scaled)\n",
    "\n",
    "# Get selected features\n",
    "selected_features_mi = X.columns[mi_selector.get_support()]\n",
    "print(\"Selected Features (Mutual Information):\", selected_features_mi)\n",
    "\n",
    "# Train and evaluate a model using only the selected features\n",
    "mi_model = LogisticRegression(random_state=42)\n",
    "mi_model.fit(X_train_mi, y_train)\n",
    "y_pred_mi = mi_model.predict(X_test_mi)\n",
    "\n",
    "# Evaluate model performance\n",
    "print(\"Mutual Information Accuracy:\", accuracy_score(y_test, y_pred_mi))\n",
    "print(\"Mutual Information Classification Report:\")\n",
    "print(classification_report(y_test, y_pred_mi))\n"
   ]
  },
  {
   "cell_type": "code",
   "execution_count": 22,
   "metadata": {},
   "outputs": [],
   "source": [
    "# import pandas as pd\n",
    "# from prophet import Prophet\n",
    "# import matplotlib.pyplot as plt\n",
    "\n",
    "# # Load stock data (ensure it has 'Date' and 'Close' columns)\n",
    "# stock_data = pd.read_csv(\"sp500_stocks.csv\")\n",
    "# stock_data['Date'] = pd.to_datetime(stock_data['Date'])\n",
    "\n",
    "# # Prepare the data for Prophet\n",
    "# df = stock_data[['Date', 'Close']].rename(columns={'Date': 'ds', 'Close': 'y'})\n",
    "\n",
    "# # Initialize and fit the Prophet model\n",
    "# model = Prophet()\n",
    "# model.fit(df)\n",
    "\n",
    "# # Create a future dataframe (e.g., forecast for the next 30 days)\n",
    "# future = model.make_future_dataframe(periods=30)\n",
    "# forecast = model.predict(future)\n",
    "\n",
    "# # Plot the forecast\n",
    "# fig = model.plot(forecast)\n",
    "# plt.title(\"Stock Price Forecast with Prophet\")\n",
    "# plt.show()\n",
    "\n",
    "# # Plot forecast components (trend, seasonality, etc.)\n",
    "# fig_components = model.plot_components(forecast)\n",
    "# plt.show()"
   ]
  }
 ],
 "metadata": {
  "kernelspec": {
   "display_name": "Python 3",
   "language": "python",
   "name": "python3"
  },
  "language_info": {
   "codemirror_mode": {
    "name": "ipython",
    "version": 3
   },
   "file_extension": ".py",
   "mimetype": "text/x-python",
   "name": "python",
   "nbconvert_exporter": "python",
   "pygments_lexer": "ipython3",
   "version": "3.12.7"
  }
 },
 "nbformat": 4,
 "nbformat_minor": 2
}
